{
 "cells": [
  {
   "cell_type": "code",
   "execution_count": 2,
   "metadata": {},
   "outputs": [
    {
     "name": "stdout",
     "output_type": "stream",
     "text": [
      ".\\Resources\\budget_data.csv\n"
     ]
    }
   ],
   "source": [
    "import pandas as pd\n",
    "import os\n",
    "\n",
    "pybank_file =  os.path.join('.','Resources','budget_data.csv')\n",
    "print(pybank_file)"
   ]
  },
  {
   "cell_type": "code",
   "execution_count": 33,
   "metadata": {},
   "outputs": [
    {
     "ename": "TypeError",
     "evalue": "'str' object is not an iterator",
     "output_type": "error",
     "traceback": [
      "\u001b[1;31m---------------------------------------------------------------------------\u001b[0m",
      "\u001b[1;31mTypeError\u001b[0m                                 Traceback (most recent call last)",
      "\u001b[1;32m<ipython-input-33-b3a4be5ca9e4>\u001b[0m in \u001b[0;36m<module>\u001b[1;34m\u001b[0m\n\u001b[1;32m----> 1\u001b[1;33m \u001b[0mheader\u001b[0m \u001b[1;33m=\u001b[0m \u001b[0mnext\u001b[0m\u001b[1;33m(\u001b[0m\u001b[0mpybank_file\u001b[0m\u001b[1;33m)\u001b[0m\u001b[1;33m\u001b[0m\u001b[1;33m\u001b[0m\u001b[0m\n\u001b[0m\u001b[0;32m      2\u001b[0m \u001b[0mprint\u001b[0m\u001b[1;33m(\u001b[0m\u001b[0mheader\u001b[0m\u001b[1;33m)\u001b[0m\u001b[1;33m\u001b[0m\u001b[1;33m\u001b[0m\u001b[0m\n\u001b[0;32m      3\u001b[0m \u001b[1;33m\u001b[0m\u001b[0m\n\u001b[0;32m      4\u001b[0m \u001b[1;33m\u001b[0m\u001b[0m\n\u001b[0;32m      5\u001b[0m \u001b[1;33m\u001b[0m\u001b[0m\n",
      "\u001b[1;31mTypeError\u001b[0m: 'str' object is not an iterator"
     ]
    }
   ],
   "source": [
    "\n",
    "\n",
    "\n",
    "\n",
    "# net_change = int(row[1])-prev_net\n",
    "# prev_net = int(row[1])\n",
    "# net_change_list=net_change_list+[net_change]\n",
    "# month_of_change = month_of_change+[row[0]]"
   ]
  },
  {
   "cell_type": "code",
   "execution_count": 3,
   "metadata": {},
   "outputs": [
    {
     "data": {
      "text/html": [
       "<div>\n",
       "<style scoped>\n",
       "    .dataframe tbody tr th:only-of-type {\n",
       "        vertical-align: middle;\n",
       "    }\n",
       "\n",
       "    .dataframe tbody tr th {\n",
       "        vertical-align: top;\n",
       "    }\n",
       "\n",
       "    .dataframe thead th {\n",
       "        text-align: right;\n",
       "    }\n",
       "</style>\n",
       "<table border=\"1\" class=\"dataframe\">\n",
       "  <thead>\n",
       "    <tr style=\"text-align: right;\">\n",
       "      <th></th>\n",
       "      <th>Date</th>\n",
       "      <th>Profit/Losses</th>\n",
       "    </tr>\n",
       "  </thead>\n",
       "  <tbody>\n",
       "    <tr>\n",
       "      <th>0</th>\n",
       "      <td>Jan-2010</td>\n",
       "      <td>867884</td>\n",
       "    </tr>\n",
       "    <tr>\n",
       "      <th>1</th>\n",
       "      <td>Feb-2010</td>\n",
       "      <td>984655</td>\n",
       "    </tr>\n",
       "    <tr>\n",
       "      <th>2</th>\n",
       "      <td>Mar-2010</td>\n",
       "      <td>322013</td>\n",
       "    </tr>\n",
       "    <tr>\n",
       "      <th>3</th>\n",
       "      <td>Apr-2010</td>\n",
       "      <td>-69417</td>\n",
       "    </tr>\n",
       "    <tr>\n",
       "      <th>4</th>\n",
       "      <td>May-2010</td>\n",
       "      <td>310503</td>\n",
       "    </tr>\n",
       "  </tbody>\n",
       "</table>\n",
       "</div>"
      ],
      "text/plain": [
       "       Date  Profit/Losses\n",
       "0  Jan-2010         867884\n",
       "1  Feb-2010         984655\n",
       "2  Mar-2010         322013\n",
       "3  Apr-2010         -69417\n",
       "4  May-2010         310503"
      ]
     },
     "execution_count": 3,
     "metadata": {},
     "output_type": "execute_result"
    }
   ],
   "source": [
    "df = pd.read_csv(pybank_file)\n",
    "df\n",
    "df.head()"
   ]
  },
  {
   "cell_type": "code",
   "execution_count": 86,
   "metadata": {
    "scrolled": true
   },
   "outputs": [
    {
     "name": "stdout",
     "output_type": "stream",
     "text": [
      " Financial Analysis\n",
      " ---------------------------\n",
      " Total Months: 86\n",
      " Total Profit: $38382578\n",
      " Average Change: $-2315\n",
      " Greatest Increase in Profits: Feb-2012 ($1170593)\n",
      " Greatest Decrease in Profits: Sep-2013 (-$-1196225)\n"
     ]
    }
   ],
   "source": [
    "# Find total months\n",
    "\n",
    "total_months = df[\"Date\"].shape[0]\n",
    "# print(total_months)\n",
    "\n",
    "# find sum of PL\n",
    "net_PL = df[\"Profit/Losses\"].sum()\n",
    "# print(net_PL)\n",
    "\n",
    "\n",
    "# Find average change in PL\n",
    "df['next_month'] = df['Profit/Losses'].shift(1)\n",
    "\n",
    "\n",
    "df['difference'] = df['Profit/Losses']-df['next_month']\n",
    "\n",
    "average_change = df['difference'].mean()\n",
    "# print(average_change)\n",
    "\n",
    "\n",
    "# find greatest profits\n",
    "greatest_profits = df[\"Profit/Losses\"].max()\n",
    "# print(greatest_profits)\n",
    "\n",
    "df.loc[df['Profit/Losses'].idxmax]\n",
    "\n",
    "# find greatest losses\n",
    "greatest_losses = df[\"Profit/Losses\"].min()\n",
    "# print(greatest_losses)\n",
    "\n",
    "\n",
    "df.loc[df['Profit/Losses'].idxmin]\n",
    "\n",
    "\n",
    "\n",
    "Financial_Summary = (\n",
    "f' Financial Analysis\\n'\n",
    "f' ---------------------------\\n'\n",
    "f' Total Months: {total_months}\\n'\n",
    "f' Total Profit: ${net_PL}\\n'\n",
    "f' Average Change: ${round(average_change)}\\n'\n",
    "f' Greatest Increase in Profits: Feb-2012 (${greatest_profits})\\n'\n",
    "f' Greatest Decrease in Profits: Sep-2013 (-${greatest_losses})'\n",
    ")\n",
    "\n",
    "print(Financial_Summary)\n",
    "\n",
    "with open(\"main.py\", \"w\") as text_file:\n",
    "    print(f'{Financial_Summary}', file = text_file)\n"
   ]
  },
  {
   "cell_type": "code",
   "execution_count": 67,
   "metadata": {},
   "outputs": [
    {
     "name": "stdout",
     "output_type": "stream",
     "text": [
      " Financial Analysis --------------------------- Total Months: 86 Total Profit: $38382578 Average Change: $-2315 Greatest Increase in Profits: Feb-2012 ($1170593) Greatest Decrease in Profits: Sep-2013 (-$-1196225)\n"
     ]
    }
   ],
   "source": [
    "# Financial_Summary = (\n",
    "#                     f' Financial Analysis'\n",
    "#                     f' ---------------------------'\n",
    "#                     f' Total Months: {total_months}'\n",
    "#                     f' Total Profit: ${net_PL}'\n",
    "#                     f' Average Change: ${round(average_change)}'\n",
    "#                     f' Greatest Increase in Profits: Feb-2012 (${greatest_profits})'\n",
    "#                     f' Greatest Decrease in Profits: Sep-2013 (-${greatest_losses})'\n",
    "# )\n",
    "# print(Financial_Summary)\n"
   ]
  },
  {
   "cell_type": "code",
   "execution_count": null,
   "metadata": {},
   "outputs": [],
   "source": []
  }
 ],
 "metadata": {
  "kernelspec": {
   "display_name": "Python 3",
   "language": "python",
   "name": "python3"
  },
  "language_info": {
   "codemirror_mode": {
    "name": "ipython",
    "version": 3
   },
   "file_extension": ".py",
   "mimetype": "text/x-python",
   "name": "python",
   "nbconvert_exporter": "python",
   "pygments_lexer": "ipython3",
   "version": "3.8.3"
  }
 },
 "nbformat": 4,
 "nbformat_minor": 4
}
